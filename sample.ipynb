{
 "cells": [
  {
   "cell_type": "code",
   "execution_count": 4,
   "id": "ab3b2f8a",
   "metadata": {},
   "outputs": [
    {
     "name": "stdout",
     "output_type": "stream",
     "text": [
      "[0, 1, 4, 9, 16, 25, 36, 49, 64, 81]\n",
      "[0, 2, 4, 6, 8]\n",
      "-------in map---------\n",
      "[0, 1, 4, 9, 16, 25, 36, 49, 64, 81]\n",
      "[0, 2, 4, 6, 8]\n"
     ]
    }
   ],
   "source": [
    "square = [x**2 for x in range(10)]\n",
    "evens = [x for x in range(10) if x%2==0]\n",
    "print(square)\n",
    "print(evens)\n",
    "\n",
    "print(\"-------in map---------\")\n",
    "\n",
    "squaremap = list(map(lambda x: x**2, range(10)))\n",
    "evensmap = list(filter(lambda x: x % 2 == 0, range(10)))\n",
    "\n",
    "print(squaremap)\n",
    "print(evensmap)"
   ]
  },
  {
   "cell_type": "code",
   "execution_count": 5,
   "id": "b0c23c72",
   "metadata": {},
   "outputs": [
    {
     "name": "stdout",
     "output_type": "stream",
     "text": [
      "Access denied. Please log in.\n",
      "Logged in.\n",
      "Welcome to your dashboard!\n",
      "Logged out.\n",
      "Access denied. Please log in.\n"
     ]
    }
   ],
   "source": [
    "%run problem-1.py"
   ]
  }
 ],
 "metadata": {
  "kernelspec": {
   "display_name": "Python 3",
   "language": "python",
   "name": "python3"
  },
  "language_info": {
   "codemirror_mode": {
    "name": "ipython",
    "version": 3
   },
   "file_extension": ".py",
   "mimetype": "text/x-python",
   "name": "python",
   "nbconvert_exporter": "python",
   "pygments_lexer": "ipython3",
   "version": "3.13.5"
  }
 },
 "nbformat": 4,
 "nbformat_minor": 5
}
